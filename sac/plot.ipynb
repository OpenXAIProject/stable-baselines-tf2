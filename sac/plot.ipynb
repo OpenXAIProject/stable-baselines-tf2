{
 "nbformat": 4,
 "nbformat_minor": 2,
 "metadata": {
  "language_info": {
   "name": "python",
   "codemirror_mode": {
    "name": "ipython",
    "version": 3
   },
   "version": "3.7.5"
  },
  "orig_nbformat": 2,
  "file_extension": ".py",
  "mimetype": "text/x-python",
  "name": "python",
  "npconvert_exporter": "python",
  "pygments_lexer": "ipython3",
  "version": 3
 },
 "cells": [
  {
   "source": [
    "import matplotlib.pyplot as plt\n",
    "import numpy as np\n",
    "import os\n",
    "%matplotlib inline"
   ],
   "cell_type": "code",
   "outputs": [],
   "metadata": {},
   "execution_count": 7
  },
  {
   "source": [
    "envnames = ['Hopper-v2', 'Walker2d-v2', 'HalfCheetah-v2', 'Ant-v2']\n",
    "envname = envnames[3]\n",
    "path = 'results_final/%s/' % envname\n",
    "filenames = os.listdir(path)\n",
    "pathlist = [path + fname for fname in filenames]"
   ],
   "cell_type": "code",
   "outputs": [],
   "metadata": {},
   "execution_count": 20
  },
  {
   "source": [
    "arrlist = []\n",
    "\n",
    "for path in pathlist:\n",
    "    arr = np.load(path)\n",
    "    arrlist.append(arr)\n",
    "\n",
    "arrlist = np.array(arrlist)\n",
    "arrlist = arrlist[:,:100]"
   ],
   "cell_type": "code",
   "outputs": [],
   "metadata": {},
   "execution_count": 21
  },
  {
   "source": [
    "arrlist.shape"
   ],
   "cell_type": "code",
   "outputs": [
    {
     "output_type": "execute_result",
     "data": {
      "text/plain": "(4, 100, 1)"
     },
     "metadata": {},
     "execution_count": 22
    }
   ],
   "metadata": {},
   "execution_count": 22
  },
  {
   "source": [
    "arrlist = np.squeeze(arrlist)\n",
    "if len(arrlist.shape) == 1:\n",
    "    arrlist = np.array([arrlist])   \n",
    "\n",
    "arrlen = len(arrlist)\n",
    "print(arrlen)"
   ],
   "cell_type": "code",
   "outputs": [
    {
     "output_type": "stream",
     "name": "stdout",
     "text": "4\n"
    }
   ],
   "metadata": {},
   "execution_count": 23
  },
  {
   "source": [
    "rewmean = arrlist.mean(axis=0)\n",
    "rewstderr = arrlist.std(axis=0)/np.sqrt(arrlen)\n",
    "arrshape = rewmean.shape\n",
    "stepsize = 0.005\n",
    "x_range = np.arange(start=stepsize, stop=stepsize + stepsize*arrshape[0], step=stepsize)"
   ],
   "cell_type": "code",
   "outputs": [],
   "metadata": {},
   "execution_count": 24
  },
  {
   "source": [
    "plt.plot(x_range, rewmean)\n",
    "plt.fill_between(x_range, rewmean + rewstderr, rewmean - rewstderr, alpha=0.5)\n",
    "#plt.fill_between(x_range, np.min(arrlist, axis=0), np.max(arrlist, axis=0), alpha=0.5)\n",
    "plt.title(envname)\n",
    "plt.xlabel('million steps')\n",
    "plt.ylabel('average return')"
   ],
   "cell_type": "code",
   "outputs": [
    {
     "output_type": "execute_result",
     "data": {
      "text/plain": "Text(0, 0.5, 'average return')"
     },
     "metadata": {},
     "execution_count": 25
    }
   ],
   "metadata": {},
   "execution_count": 25
  },
  {
   "cell_type": "code",
   "execution_count": null,
   "metadata": {},
   "outputs": [],
   "source": []
  }
 ]
}